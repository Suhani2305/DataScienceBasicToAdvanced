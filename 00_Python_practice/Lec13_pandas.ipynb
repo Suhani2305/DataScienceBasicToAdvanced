{
 "cells": [
  {
   "cell_type": "code",
   "execution_count": null,
   "id": "81740f78",
   "metadata": {},
   "outputs": [],
   "source": [
    "print(\"hello\")"
   ]
  },
  {
   "cell_type": "code",
   "execution_count": null,
   "id": "a28e672a",
   "metadata": {},
   "outputs": [],
   "source": [
    "import seaborn as sns\n",
    "import plotly.express as px\n",
    "\n",
    "print(\"Sab set hai bro 🔥\")\n"
   ]
  }
 ],
 "metadata": {
  "kernelspec": {
   "display_name": "Python (DS Env)",
   "language": "python",
   "name": "ds_env"
  },
  "language_info": {
   "name": "python",
   "version": "3.11.13"
  }
 },
 "nbformat": 4,
 "nbformat_minor": 5
}
